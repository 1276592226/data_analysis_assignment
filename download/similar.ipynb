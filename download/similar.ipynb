{
 "cells": [
  {
   "cell_type": "code",
   "execution_count": 1,
   "id": "initial_id",
   "metadata": {
    "ExecuteTime": {
     "end_time": "2023-08-28T06:05:55.826057900Z",
     "start_time": "2023-08-28T06:05:55.813020300Z"
    },
    "collapsed": true
   },
   "outputs": [],
   "source": [
    "# 引入库\n",
    "import matplotlib.pyplot as plt\n",
    "import pandas as pd\n",
    "import numpy as np\n",
    "\n",
    "# 设置基本参数\n",
    "pd.set_option('display.width', 60)"
   ]
  },
  {
   "cell_type": "code",
   "execution_count": 3,
   "id": "ed17fb555cdd7381",
   "metadata": {
    "ExecuteTime": {
     "end_time": "2023-08-28T03:23:54.704459300Z",
     "start_time": "2023-08-28T03:23:47.383000800Z"
    },
    "collapsed": false
   },
   "outputs": [
    {
     "name": "stdout",
     "output_type": "stream",
     "text": [
      "                 Order Date  Order Date Year  \\\n",
      "Order ID                                       \n",
      "AG-2011-2040       1/1/2011             2011   \n",
      "IN-2011-47883      1/1/2011             2011   \n",
      "HU-2011-1220       1/1/2011             2011   \n",
      "IT-2011-3647632    1/1/2011             2011   \n",
      "IN-2011-47883      1/1/2011             2011   \n",
      "...                     ...              ...   \n",
      "CA-2014-115427   31-12-2014             2014   \n",
      "MO-2014-2560     31-12-2014             2014   \n",
      "MX-2014-110527   31-12-2014             2014   \n",
      "MX-2014-114783   31-12-2014             2014   \n",
      "CA-2014-156720   31-12-2014             2014   \n",
      "\n",
      "                 Order Date Month  Order Date Day  \\\n",
      "Order ID                                            \n",
      "AG-2011-2040                    1               1   \n",
      "IN-2011-47883                   1               1   \n",
      "HU-2011-1220                    1               1   \n",
      "IT-2011-3647632                 1               1   \n",
      "IN-2011-47883                   1               1   \n",
      "...                           ...             ...   \n",
      "CA-2014-115427                 12              31   \n",
      "MO-2014-2560                   12              31   \n",
      "MX-2014-110527                 12              31   \n",
      "MX-2014-114783                 12              31   \n",
      "CA-2014-156720                 12              31   \n",
      "\n",
      "                Ship Date  Ship Date Year  \\\n",
      "Order ID                                    \n",
      "AG-2011-2040     6/1/2011            2011   \n",
      "IN-2011-47883    8/1/2011            2011   \n",
      "HU-2011-1220     5/1/2011            2011   \n",
      "IT-2011-3647632  5/1/2011            2011   \n",
      "IN-2011-47883    8/1/2011            2011   \n",
      "...                   ...             ...   \n",
      "CA-2014-115427   4/1/2015            2015   \n",
      "MO-2014-2560     5/1/2015            2015   \n",
      "MX-2014-110527   2/1/2015            2015   \n",
      "MX-2014-114783   6/1/2015            2015   \n",
      "CA-2014-156720   4/1/2015            2015   \n",
      "\n",
      "                 Ship Date Month  Ship Date Day  \\\n",
      "Order ID                                          \n",
      "AG-2011-2040                   6              1   \n",
      "IN-2011-47883                  8              1   \n",
      "HU-2011-1220                   5              1   \n",
      "IT-2011-3647632                5              1   \n",
      "IN-2011-47883                  8              1   \n",
      "...                          ...            ...   \n",
      "CA-2014-115427                 4              1   \n",
      "MO-2014-2560                   5              1   \n",
      "MX-2014-110527                 2              1   \n",
      "MX-2014-114783                 6              1   \n",
      "CA-2014-156720                 4              1   \n",
      "\n",
      "                      Ship Mode Customer ID  ...  \\\n",
      "Order ID                                     ...   \n",
      "AG-2011-2040     Standard Class    TB-11280  ...   \n",
      "IN-2011-47883    Standard Class    JH-15985  ...   \n",
      "HU-2011-1220       Second Class      AT-735  ...   \n",
      "IT-2011-3647632    Second Class    EM-14140  ...   \n",
      "IN-2011-47883    Standard Class    JH-15985  ...   \n",
      "...                         ...         ...  ...   \n",
      "CA-2014-115427   Standard Class    EB-13975  ...   \n",
      "MO-2014-2560     Standard Class     LP-7095  ...   \n",
      "MX-2014-110527     Second Class    CM-12190  ...   \n",
      "MX-2014-114783   Standard Class    TD-20995  ...   \n",
      "CA-2014-156720   Standard Class    JM-15580  ...   \n",
      "\n",
      "                                            Sub-Category  \\\n",
      "Order ID                                                   \n",
      "AG-2011-2040                                     Storage   \n",
      "IN-2011-47883                                   Supplies   \n",
      "HU-2011-1220                                     Storage   \n",
      "IT-2011-3647632                                    Paper   \n",
      "IN-2011-47883                                Furnishings   \n",
      "...                                                  ...   \n",
      "CA-2014-115427                                   Binders   \n",
      "MO-2014-2560     Wilson Jones Hole Reinforcements, Clear   \n",
      "MX-2014-110527                                    Labels   \n",
      "MX-2014-114783                                    Labels   \n",
      "CA-2014-156720                                 Fasteners   \n",
      "\n",
      "                                                    Product Name  \\\n",
      "Order ID                                                           \n",
      "AG-2011-2040                                 Tenex Lockers, Blue   \n",
      "IN-2011-47883                           Acme Trimmer, High Speed   \n",
      "HU-2011-1220                             Tenex Box, Single Width   \n",
      "IT-2011-3647632                      Enermax Note Cards, Premium   \n",
      "IN-2011-47883                         Eldon Light Bulb, Duo Pack   \n",
      "...                                                          ...   \n",
      "CA-2014-115427   Cardinal Slant-D Ring Binder, Heavy Gauge Vinyl   \n",
      "MO-2014-2560                                                3.99   \n",
      "MX-2014-110527            Hon Color Coded Labels, 5000 Label Set   \n",
      "MX-2014-114783            Hon Legal Exhibit Labels, Alphabetical   \n",
      "CA-2014-156720                               Bagged Rubber Bands   \n",
      "\n",
      "                   Sales Quantity Discount  Profit  \\\n",
      "Order ID                                             \n",
      "AG-2011-2040       408.3        2     0.00  106.14   \n",
      "IN-2011-47883    120.366        3     0.10  36.036   \n",
      "HU-2011-1220       66.12        4     0.00   29.64   \n",
      "IT-2011-3647632   44.865        3     0.50 -26.055   \n",
      "IN-2011-47883     113.67        5     0.10   37.77   \n",
      "...                  ...      ...      ...     ...   \n",
      "CA-2014-115427    13.904        2     0.20  4.5188   \n",
      "MO-2014-2560           1        0     0.42    0.49   \n",
      "MX-2014-110527      26.4        3     0.00   12.36   \n",
      "MX-2014-114783      7.12        1     0.00    0.56   \n",
      "CA-2014-156720     3.024        3     0.20 -0.6048   \n",
      "\n",
      "                Shipping Cost Order Priority Unnamed: 24  \\\n",
      "Order ID                                                   \n",
      "AG-2011-2040            35.46         Medium         NaN   \n",
      "IN-2011-47883            9.72         Medium         NaN   \n",
      "HU-2011-1220             8.17           High         NaN   \n",
      "IT-2011-3647632          4.82           High         NaN   \n",
      "IN-2011-47883             4.7         Medium         NaN   \n",
      "...                       ...            ...         ...   \n",
      "CA-2014-115427           0.89         Medium         NaN   \n",
      "MO-2014-2560           Medium            NaN         NaN   \n",
      "MX-2014-110527           0.35         Medium         NaN   \n",
      "MX-2014-114783            0.2         Medium         NaN   \n",
      "CA-2014-156720           0.17         Medium         NaN   \n",
      "\n",
      "                Unnamed: 25  \n",
      "Order ID                     \n",
      "AG-2011-2040            NaN  \n",
      "IN-2011-47883           NaN  \n",
      "HU-2011-1220            NaN  \n",
      "IT-2011-3647632         NaN  \n",
      "IN-2011-47883           NaN  \n",
      "...                     ...  \n",
      "CA-2014-115427          NaN  \n",
      "MO-2014-2560            NaN  \n",
      "MX-2014-110527          NaN  \n",
      "MX-2014-114783          NaN  \n",
      "CA-2014-156720          NaN  \n",
      "\n",
      "[51152 rows x 30 columns]\n"
     ]
    }
   ],
   "source": [
    "# 导入完整数据\n",
    "df = pd.read_excel('../data/supermarket_data_clean.xlsx', index_col=0)\n",
    "\n",
    "# 过滤数据类型错误的信息所在的行\n",
    "def is_number(value):\n",
    "    return isinstance(value, (int, float))\n",
    "def is_string(value):\n",
    "    return isinstance(value, (str,))\n",
    "df = df[df[\"Quantity\"].map(lambda x: isinstance(x, (int, float)))]\n",
    "df = df[df[\"Sub-Category\"].map(is_string)]\n",
    "print(df)"
   ]
  },
  {
   "cell_type": "code",
   "execution_count": 4,
   "id": "664ddbc42102d6d9",
   "metadata": {
    "ExecuteTime": {
     "end_time": "2023-08-28T03:23:57.303207400Z",
     "start_time": "2023-08-28T03:23:57.255702500Z"
    },
    "collapsed": false
   },
   "outputs": [
    {
     "name": "stdout",
     "output_type": "stream",
     "text": [
      "                   Order Date Order Date Year  \\\n",
      "                        count           count   \n",
      "Customer Name                                   \n",
      "Aaron Bergman              89              89   \n",
      "Aaron Hawkins              56              56   \n",
      "Aaron Smayling             60              60   \n",
      "Adam Bellavance            68              68   \n",
      "Adam Hart                  82              82   \n",
      "...                       ...             ...   \n",
      "Xylona Preis               61              61   \n",
      "Yana Sorensen              62              62   \n",
      "Yoseph Carroll             56              56   \n",
      "Zuschuss Carroll           85              85   \n",
      "Zuschuss Donatelli         54              54   \n",
      "\n",
      "                   Order Date Month Order Date Day  \\\n",
      "                              count          count   \n",
      "Customer Name                                        \n",
      "Aaron Bergman                    89             89   \n",
      "Aaron Hawkins                    56             56   \n",
      "Aaron Smayling                   60             60   \n",
      "Adam Bellavance                  68             68   \n",
      "Adam Hart                        82             82   \n",
      "...                             ...            ...   \n",
      "Xylona Preis                     61             61   \n",
      "Yana Sorensen                    62             62   \n",
      "Yoseph Carroll                   56             56   \n",
      "Zuschuss Carroll                 85             85   \n",
      "Zuschuss Donatelli               54             54   \n",
      "\n",
      "                   Ship Date Ship Date Year  \\\n",
      "                       count          count   \n",
      "Customer Name                                 \n",
      "Aaron Bergman             89             89   \n",
      "Aaron Hawkins             56             56   \n",
      "Aaron Smayling            60             60   \n",
      "Adam Bellavance           68             68   \n",
      "Adam Hart                 82             82   \n",
      "...                      ...            ...   \n",
      "Xylona Preis              61             61   \n",
      "Yana Sorensen             62             62   \n",
      "Yoseph Carroll            56             56   \n",
      "Zuschuss Carroll          85             85   \n",
      "Zuschuss Donatelli        54             54   \n",
      "\n",
      "                   Ship Date Month Ship Date Day  \\\n",
      "                             count         count   \n",
      "Customer Name                                      \n",
      "Aaron Bergman                   89            89   \n",
      "Aaron Hawkins                   56            56   \n",
      "Aaron Smayling                  60            60   \n",
      "Adam Bellavance                 68            68   \n",
      "Adam Hart                       82            82   \n",
      "...                            ...           ...   \n",
      "Xylona Preis                    61            61   \n",
      "Yana Sorensen                   62            62   \n",
      "Yoseph Carroll                  56            56   \n",
      "Zuschuss Carroll                85            85   \n",
      "Zuschuss Donatelli              54            54   \n",
      "\n",
      "                   Ship Mode Customer ID  ...  \\\n",
      "                       count       count  ...   \n",
      "Customer Name                             ...   \n",
      "Aaron Bergman             89          89  ...   \n",
      "Aaron Hawkins             56          56  ...   \n",
      "Aaron Smayling            60          60  ...   \n",
      "Adam Bellavance           68          68  ...   \n",
      "Adam Hart                 82          82  ...   \n",
      "...                      ...         ...  ...   \n",
      "Xylona Preis              61          61  ...   \n",
      "Yana Sorensen             62          62  ...   \n",
      "Yoseph Carroll            56          56  ...   \n",
      "Zuschuss Carroll          85          85  ...   \n",
      "Zuschuss Donatelli        54          54  ...   \n",
      "\n",
      "                   Sub-Category Product Name Sales  \\\n",
      "                          count        count count   \n",
      "Customer Name                                        \n",
      "Aaron Bergman                89           89    89   \n",
      "Aaron Hawkins                56           56    56   \n",
      "Aaron Smayling               60           60    60   \n",
      "Adam Bellavance              68           68    68   \n",
      "Adam Hart                    82           82    82   \n",
      "...                         ...          ...   ...   \n",
      "Xylona Preis                 61           61    61   \n",
      "Yana Sorensen                62           62    62   \n",
      "Yoseph Carroll               56           56    56   \n",
      "Zuschuss Carroll             85           85    85   \n",
      "Zuschuss Donatelli           54           54    54   \n",
      "\n",
      "                   Quantity Discount Profit Shipping Cost  \\\n",
      "                      count    count  count         count   \n",
      "Customer Name                                               \n",
      "Aaron Bergman            89       89     89            89   \n",
      "Aaron Hawkins            56       56     56            56   \n",
      "Aaron Smayling           60       60     60            60   \n",
      "Adam Bellavance          68       68     68            68   \n",
      "Adam Hart                82       82     82            82   \n",
      "...                     ...      ...    ...           ...   \n",
      "Xylona Preis             61       61     61            61   \n",
      "Yana Sorensen            62       62     62            62   \n",
      "Yoseph Carroll           56       56     56            56   \n",
      "Zuschuss Carroll         85       85     85            85   \n",
      "Zuschuss Donatelli       54       54     54            54   \n",
      "\n",
      "                   Order Priority Unnamed: 24 Unnamed: 25  \n",
      "                            count       count       count  \n",
      "Customer Name                                              \n",
      "Aaron Bergman                  89           0           0  \n",
      "Aaron Hawkins                  56           0           0  \n",
      "Aaron Smayling                 60           0           0  \n",
      "Adam Bellavance                65           0           0  \n",
      "Adam Hart                      82           1           0  \n",
      "...                           ...         ...         ...  \n",
      "Xylona Preis                   60           0           0  \n",
      "Yana Sorensen                  62           0           0  \n",
      "Yoseph Carroll                 56           0           0  \n",
      "Zuschuss Carroll               85           0           0  \n",
      "Zuschuss Donatelli             54           0           0  \n",
      "\n",
      "[795 rows x 29 columns]\n"
     ]
    }
   ],
   "source": [
    "# 查看每个用户的订单数量 [与下方代码无关]\n",
    "cc = df.groupby(\"Customer Name\").agg({\"count\"})\n",
    "print(cc)"
   ]
  },
  {
   "cell_type": "code",
   "execution_count": 5,
   "id": "47730f240d71aa3",
   "metadata": {
    "ExecuteTime": {
     "end_time": "2023-08-28T03:23:57.834827400Z",
     "start_time": "2023-08-28T03:23:57.827822300Z"
    },
    "collapsed": false
   },
   "outputs": [
    {
     "name": "stdout",
     "output_type": "stream",
     "text": [
      "                Sub-Category   Sales Quantity  Order Date\n",
      "Order ID                                                 \n",
      "MX-2011-127215        Phones   82.26        1   3/11/2011\n",
      "ES-2011-4146320          Art    50.7        2    4/4/2011\n",
      "ES-2011-4146320       Labels    32.4        3    4/4/2011\n",
      "CA-2011-156587        Chairs  48.712        1    7/3/2011\n",
      "CA-2011-156587           Art   17.94        3    7/3/2011\n",
      "...                      ...     ...      ...         ...\n",
      "ES-2011-4184901  Furnishings   75.96        4  30-08-2011\n",
      "US-2013-123806        Chairs  59.328        3  31-05-2013\n",
      "US-2013-123806           Art  21.816        1  31-05-2013\n",
      "US-2013-103450        Chairs  86.416        1  31-10-2013\n",
      "US-2013-103450     Fasteners   27.18        3  31-10-2013\n",
      "\n",
      "[89 rows x 4 columns]\n"
     ]
    }
   ],
   "source": [
    "# 筛选指定用户的有效信息 [与下方代码无关]\n",
    "\n",
    "u1 = df[df['Customer Name'] == 'Aaron Bergman'][['Sub-Category', 'Sales', 'Quantity', 'Order Date']]\n",
    "print(u1)"
   ]
  },
  {
   "cell_type": "code",
   "execution_count": 6,
   "id": "942c4efd3a873f0",
   "metadata": {
    "ExecuteTime": {
     "end_time": "2023-08-28T03:23:58.457799300Z",
     "start_time": "2023-08-28T03:23:58.443326800Z"
    },
    "collapsed": false
   },
   "outputs": [
    {
     "name": "stdout",
     "output_type": "stream",
     "text": [
      "             Quantity\n",
      "                  sum\n",
      "Sub-Category         \n",
      "Accessories        26\n",
      "Art                14\n",
      "Binders            23\n",
      "Bookcases           9\n",
      "Chairs             16\n",
      "Copiers            36\n",
      "Envelopes           1\n",
      "Fasteners          16\n",
      "Furnishings        35\n",
      "Labels             18\n",
      "Machines           20\n",
      "Phones             27\n",
      "Storage            29\n",
      "Supplies           31\n"
     ]
    }
   ],
   "source": [
    "# 获取指定用户在各类别上的购买次数作为特征 [与下方代码无关]\n",
    "u1sc = u1[[\"Quantity\", 'Sub-Category']].groupby('Sub-Category').agg({'sum'})\n",
    "print(u1sc)"
   ]
  },
  {
   "cell_type": "code",
   "execution_count": 7,
   "id": "61119f52c770ecd8",
   "metadata": {
    "ExecuteTime": {
     "end_time": "2023-08-28T06:20:48.888669900Z",
     "start_time": "2023-08-28T06:20:48.851242800Z"
    },
    "collapsed": false
   },
   "outputs": [
    {
     "name": "stdout",
     "output_type": "stream",
     "text": [
      "                                             All\n",
      "Sub-Category                                    \n",
      "Accessories                                10806\n",
      "Acco 3-Hole Punch, Recycled                    0\n",
      "Acco Binder, Economy                           0\n",
      "Acco Binding Machine, Recycled                 0\n",
      "Acco Hole Reinforcements, Durable              0\n",
      "...                                          ...\n",
      "Wilson Jones Index Tab, Economy                0\n",
      "Xerox Cards & Envelopes, Multicolor            0\n",
      "Xerox Cards & Envelopes, Recycled              0\n",
      "Xerox Computer Printout Paper, Multicolor      0\n",
      "Xerox Parchment Paper, Multicolor              0\n",
      "\n",
      "[480 rows x 1 columns]\n"
     ]
    }
   ],
   "source": [
    "# 获取所有类别的总购买次数\n",
    "sc = df[['Sub-Category', 'Quantity']].groupby('Sub-Category').agg({'sum'})\n",
    "sc.columns = ['All']\n",
    "print(sc)"
   ]
  },
  {
   "cell_type": "code",
   "execution_count": 8,
   "id": "843cceb993fa4140",
   "metadata": {
    "ExecuteTime": {
     "end_time": "2023-08-28T05:48:12.206020200Z",
     "start_time": "2023-08-28T05:48:12.187888300Z"
    },
    "collapsed": false
   },
   "outputs": [
    {
     "name": "stdout",
     "output_type": "stream",
     "text": [
      "             Aaron Bergman\n",
      "Sub-Category              \n",
      "Accessories             26\n",
      "Art                     14\n",
      "Binders                 23\n",
      "Bookcases                9\n",
      "Chairs                  16\n",
      "Copiers                 36\n",
      "Envelopes                1\n",
      "Fasteners               16\n",
      "Furnishings             35\n",
      "Labels                  18\n",
      "Machines                20\n",
      "Phones                  27\n",
      "Storage                 29\n",
      "Supplies                31\n"
     ]
    }
   ],
   "source": [
    "# 指定用户 在每个类别上的 累计购买次数\n",
    "user = \"Aaron Bergman\"\n",
    "u1 = df[df['Customer Name'] == user][['Sub-Category', 'Sales', 'Quantity', 'Order Date']]\n",
    "u1sc = u1[[\"Quantity\", 'Sub-Category']].groupby('Sub-Category').agg({'sum'})\n",
    "u1sc.columns = [user]\n",
    "print(u1sc)"
   ]
  },
  {
   "cell_type": "code",
   "execution_count": 9,
   "id": "bdf3e89e00ab70db",
   "metadata": {
    "ExecuteTime": {
     "end_time": "2023-08-28T06:20:52.093953400Z",
     "start_time": "2023-08-28T06:20:52.053071Z"
    },
    "collapsed": false
   },
   "outputs": [
    {
     "name": "stdout",
     "output_type": "stream",
     "text": [
      "                                               All  \\\n",
      "Sub-Category                                         \n",
      "Accessories                                10806.0   \n",
      "Acco 3-Hole Punch, Recycled                    0.0   \n",
      "Acco Binder, Economy                           0.0   \n",
      "Acco Binding Machine, Recycled                 0.0   \n",
      "Acco Hole Reinforcements, Durable              0.0   \n",
      "...                                            ...   \n",
      "Wilson Jones Index Tab, Economy                0.0   \n",
      "Xerox Cards & Envelopes, Multicolor            0.0   \n",
      "Xerox Cards & Envelopes, Recycled              0.0   \n",
      "Xerox Computer Printout Paper, Multicolor      0.0   \n",
      "Xerox Parchment Paper, Multicolor              0.0   \n",
      "\n",
      "                                           Aaron Bergman  \\\n",
      "Sub-Category                                               \n",
      "Accessories                                           26   \n",
      "Acco 3-Hole Punch, Recycled                            0   \n",
      "Acco Binder, Economy                                   0   \n",
      "Acco Binding Machine, Recycled                         0   \n",
      "Acco Hole Reinforcements, Durable                      0   \n",
      "...                                                  ...   \n",
      "Wilson Jones Index Tab, Economy                        0   \n",
      "Xerox Cards & Envelopes, Multicolor                    0   \n",
      "Xerox Cards & Envelopes, Recycled                      0   \n",
      "Xerox Computer Printout Paper, Multicolor              0   \n",
      "Xerox Parchment Paper, Multicolor                      0   \n",
      "\n",
      "                                           Aaron Hawkins  \\\n",
      "Sub-Category                                               \n",
      "Accessories                                           10   \n",
      "Acco 3-Hole Punch, Recycled                            0   \n",
      "Acco Binder, Economy                                   0   \n",
      "Acco Binding Machine, Recycled                         0   \n",
      "Acco Hole Reinforcements, Durable                      0   \n",
      "...                                                  ...   \n",
      "Wilson Jones Index Tab, Economy                        0   \n",
      "Xerox Cards & Envelopes, Multicolor                    0   \n",
      "Xerox Cards & Envelopes, Recycled                      0   \n",
      "Xerox Computer Printout Paper, Multicolor              0   \n",
      "Xerox Parchment Paper, Multicolor                      0   \n",
      "\n",
      "                                           Aaron Smayling  \\\n",
      "Sub-Category                                                \n",
      "Accessories                                            20   \n",
      "Acco 3-Hole Punch, Recycled                             0   \n",
      "Acco Binder, Economy                                    0   \n",
      "Acco Binding Machine, Recycled                          0   \n",
      "Acco Hole Reinforcements, Durable                       0   \n",
      "...                                                   ...   \n",
      "Wilson Jones Index Tab, Economy                         0   \n",
      "Xerox Cards & Envelopes, Multicolor                     0   \n",
      "Xerox Cards & Envelopes, Recycled                       0   \n",
      "Xerox Computer Printout Paper, Multicolor               0   \n",
      "Xerox Parchment Paper, Multicolor                       0   \n",
      "\n",
      "                                           Adam Bellavance  \n",
      "Sub-Category                                                \n",
      "Accessories                                           13.0  \n",
      "Acco 3-Hole Punch, Recycled                            0.0  \n",
      "Acco Binder, Economy                                   0.0  \n",
      "Acco Binding Machine, Recycled                         0.0  \n",
      "Acco Hole Reinforcements, Durable                      0.0  \n",
      "...                                                    ...  \n",
      "Wilson Jones Index Tab, Economy                        0.0  \n",
      "Xerox Cards & Envelopes, Multicolor                    0.0  \n",
      "Xerox Cards & Envelopes, Recycled                      0.0  \n",
      "Xerox Computer Printout Paper, Multicolor              0.0  \n",
      "Xerox Parchment Paper, Multicolor                      0.0  \n",
      "\n",
      "[480 rows x 5 columns]\n"
     ]
    }
   ],
   "source": [
    "# 获取各个用户的购买次数特征并拼接至一张表上\n",
    "users = [\"Aaron Bergman\", \"Aaron Hawkins\", \"Aaron Smayling\", \"Adam Bellavance\"]\n",
    "for user in users:\n",
    "    u1 = df[df['Customer Name'] == user][['Sub-Category', 'Sales', 'Quantity', 'Order Date']]\n",
    "    u1sc = u1[[\"Quantity\", 'Sub-Category']].groupby('Sub-Category').agg({'sum'})\n",
    "    u1sc.columns = [user]\n",
    "    sc = pd.concat([sc, u1sc], axis=1)\n",
    "sc = sc.fillna(0)\n",
    "print(sc)"
   ]
  },
  {
   "cell_type": "code",
   "execution_count": 10,
   "id": "6831812539fa8558",
   "metadata": {
    "ExecuteTime": {
     "end_time": "2023-08-28T06:20:55.472480600Z",
     "start_time": "2023-08-28T06:20:55.447437800Z"
    },
    "collapsed": false
   },
   "outputs": [
    {
     "name": "stdout",
     "output_type": "stream",
     "text": [
      "                      All  Aaron Bergman  Aaron Hawkins  \\\n",
      "All              1.000000       0.816475       0.809099   \n",
      "Aaron Bergman    0.816475       1.000000       0.722000   \n",
      "Aaron Hawkins    0.809099       0.722000       1.000000   \n",
      "Aaron Smayling   0.898259       0.660771       0.594060   \n",
      "Adam Bellavance  0.875031       0.588859       0.676802   \n",
      "\n",
      "                 Aaron Smayling  Adam Bellavance  \n",
      "All                    0.898259         0.875031  \n",
      "Aaron Bergman          0.660771         0.588859  \n",
      "Aaron Hawkins          0.594060         0.676802  \n",
      "Aaron Smayling         1.000000         0.752868  \n",
      "Adam Bellavance        0.752868         1.000000  \n"
     ]
    }
   ],
   "source": [
    "# 生成表格每列之间的相似度情况\n",
    "similar = sc.corr(method = 'pearson', min_periods=1)\n",
    "print(similar)"
   ]
  },
  {
   "cell_type": "code",
   "execution_count": 11,
   "id": "eaf1959e8ea2843d",
   "metadata": {
    "ExecuteTime": {
     "end_time": "2023-08-28T06:25:22.998200600Z",
     "start_time": "2023-08-28T06:25:22.976227Z"
    },
    "collapsed": false
   },
   "outputs": [
    {
     "name": "stdout",
     "output_type": "stream",
     "text": [
      "Aaron Bergman\n"
     ]
    }
   ],
   "source": [
    "# 筛选出与指定用户最相似的用户\n",
    "name = \"Aaron Bergman\"\n",
    "us = similar[[name]]\n",
    "us = us.drop('All')\n",
    "us = us.drop(name)\n",
    "similar_user = us.iloc[us[name].argmax()].index.values[0]\n",
    "print(similar_user)"
   ]
  },
  {
   "cell_type": "code",
   "execution_count": 12,
   "id": "74d3cbee958d63ca",
   "metadata": {
    "ExecuteTime": {
     "end_time": "2023-08-28T06:35:53.237473800Z",
     "start_time": "2023-08-28T06:35:53.203728400Z"
    },
    "collapsed": false
   },
   "outputs": [
    {
     "name": "stdout",
     "output_type": "stream",
     "text": [
      "Aaron Bergman    36\n",
      "Name: Copiers, dtype: int64\n"
     ]
    }
   ],
   "source": [
    "# 获取最相似的用户最喜欢的商品\n",
    "suf = sc[[similar_user]]\n",
    "line = suf.iloc[suf[similar_user].argmax()]\n",
    "print(line)"
   ]
  },
  {
   "cell_type": "code",
   "execution_count": null,
   "id": "ed07ad4b82052e6e",
   "metadata": {
    "collapsed": false
   },
   "outputs": [],
   "source": [
    "# 学生可自行拓展 获取最相似的几个用户喜欢的几件商品等"
   ]
  }
 ],
 "metadata": {
  "kernelspec": {
   "display_name": "Python 3",
   "language": "python",
   "name": "python3"
  },
  "language_info": {
   "codemirror_mode": {
    "name": "ipython",
    "version": 3
   },
   "file_extension": ".py",
   "mimetype": "text/x-python",
   "name": "python",
   "nbconvert_exporter": "python",
   "pygments_lexer": "ipython3",
   "version": "3.10.0"
  }
 },
 "nbformat": 4,
 "nbformat_minor": 5
}
